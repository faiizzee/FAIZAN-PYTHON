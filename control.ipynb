{
 "cells": [
  {
   "cell_type": "code",
   "execution_count": 1,
   "metadata": {},
   "outputs": [],
   "source": [
    "x = int(input('give me number:'))\n",
    "if x >=10:\n",
    "    print(\"The end\")\n",
    "    "
   ]
  },
  {
   "cell_type": "code",
   "execution_count": 2,
   "metadata": {},
   "outputs": [
    {
     "name": "stdout",
     "output_type": "stream",
     "text": [
      "even\n"
     ]
    }
   ],
   "source": [
    "if x % 2 ==0:\n",
    "    print(\"even\")"
   ]
  },
  {
   "cell_type": "code",
   "execution_count": 5,
   "metadata": {},
   "outputs": [
    {
     "name": "stdout",
     "output_type": "stream",
     "text": [
      "expencive\n"
     ]
    }
   ],
   "source": [
    "price = 2300\n",
    "if price > 2000:\n",
    "  print(\"expencive\")\n",
    "else:\n",
    "  print('we can buy it')"
   ]
  },
  {
   "cell_type": "code",
   "execution_count": 7,
   "metadata": {},
   "outputs": [
    {
     "name": "stdout",
     "output_type": "stream",
     "text": [
      "400/600=66.67%\n",
      "Grade:C\n"
     ]
    }
   ],
   "source": [
    "marks = int(input('enter your marks:'))\n",
    "total = 600\n",
    "pct = marks/total*100\n",
    "print(f'{marks}/{total}={pct:.2f}%')\n",
    "if pct >90:\n",
    "    grade ='A'\n",
    "elif pct  >=75:\n",
    "    grade ='B'\n",
    "elif pct >=60:\n",
    "    grade ='C'\n",
    "elif pct >=40:\n",
    "   grade ='D'\n",
    "else:\n",
    "    grade ='F'\n",
    "print(f'Grade:{grade}')\n"
   ]
  },
  {
   "cell_type": "code",
   "execution_count": 9,
   "metadata": {},
   "outputs": [
    {
     "name": "stdout",
     "output_type": "stream",
     "text": [
      "What is the capital of Bihar?\n",
      "Correct\n"
     ]
    }
   ],
   "source": [
    "print(\"What is the capital of Bihar?\")\n",
    "ans = input('Your answer:')\n",
    "match ans:\n",
    "    case 'delhi':\n",
    "        print(\"Incorrect\")\n",
    "    case 'patna'|'Patna':\n",
    "        print(\"Correct\")\n",
    "    case _:\n",
    "        print(\"Invaid answer\")"
   ]
  },
  {
   "cell_type": "code",
   "execution_count": 1,
   "metadata": {},
   "outputs": [],
   "source": [
    "movies =[\n",
    "\"The Godfather(1972)\",\n",
    "\"Incepation(2010)\",\n",
    "\"Pulp Fiction\"]"
   ]
  },
  {
   "cell_type": "code",
   "execution_count": null,
   "metadata": {},
   "outputs": [],
   "source": [
    "for i in moves:\n",
    "    print(i)\n",
    "    "
   ]
  },
  {
   "cell_type": "code",
   "execution_count": 2,
   "metadata": {},
   "outputs": [
    {
     "name": "stdout",
     "output_type": "stream",
     "text": [
      "12\n",
      "24\n",
      "45\n"
     ]
    }
   ],
   "source": [
    "for i in [12,24,45]:\n",
    "    print(i)"
   ]
  },
  {
   "cell_type": "code",
   "execution_count": 3,
   "metadata": {},
   "outputs": [
    {
     "name": "stdout",
     "output_type": "stream",
     "text": [
      "10\n",
      "9\n",
      "8\n",
      "7\n",
      "6\n",
      "5\n",
      "4\n",
      "3\n",
      "2\n",
      "1\n"
     ]
    }
   ],
   "source": [
    "for i in range(10, 0, -1):\n",
    "    print(i)\n"
   ]
  },
  {
   "cell_type": "code",
   "execution_count": 4,
   "metadata": {},
   "outputs": [
    {
     "name": "stdout",
     "output_type": "stream",
     "text": [
      "1\n",
      "3\n",
      "5\n",
      "7\n",
      "9\n",
      "11\n",
      "13\n",
      "15\n",
      "17\n",
      "19\n",
      "21\n"
     ]
    }
   ],
   "source": [
    "for i in range(1, 22, 2):\n",
    "    print(i)"
   ]
  },
  {
   "cell_type": "code",
   "execution_count": 6,
   "metadata": {},
   "outputs": [
    {
     "name": "stdout",
     "output_type": "stream",
     "text": [
      "1\n",
      "4\n",
      "7\n",
      "10\n",
      "13\n",
      "16\n",
      "19\n",
      "22\n",
      "25\n",
      "28\n",
      "31\n",
      "34\n",
      "37\n"
     ]
    }
   ],
   "source": [
    "for i in range(1 ,40, 3):\n",
    "    print(i)"
   ]
  },
  {
   "cell_type": "code",
   "execution_count": null,
   "metadata": {},
   "outputs": [],
   "source": []
  },
  {
   "cell_type": "code",
   "execution_count": 3,
   "metadata": {},
   "outputs": [
    {
     "ename": "IndentationError",
     "evalue": "expected an indented block after 'if' statement on line 2 (3255451472.py, line 3)",
     "output_type": "error",
     "traceback": [
      "\u001b[1;36m  Cell \u001b[1;32mIn[3], line 3\u001b[1;36m\u001b[0m\n\u001b[1;33m    print(names)\u001b[0m\n\u001b[1;37m    ^\u001b[0m\n\u001b[1;31mIndentationError\u001b[0m\u001b[1;31m:\u001b[0m expected an indented block after 'if' statement on line 2\n"
     ]
    }
   ],
   "source": [
    "for name in movies:\n",
    "    if 'u' in name.lower():\n",
    "    print(names)"
   ]
  },
  {
   "cell_type": "code",
   "execution_count": 12,
   "metadata": {},
   "outputs": [
    {
     "name": "stdout",
     "output_type": "stream",
     "text": [
      "3\n",
      "5\n",
      "6\n",
      "11\n",
      "17\n"
     ]
    }
   ],
   "source": [
    "x = [3,2,1,5,6,]\n",
    "total =0\n",
    "for i in x:\n",
    "    total +=i\n",
    "    print(total)"
   ]
  },
  {
   "cell_type": "code",
   "execution_count": 13,
   "metadata": {},
   "outputs": [
    {
     "data": {
      "text/plain": [
       "17"
      ]
     },
     "execution_count": 13,
     "metadata": {},
     "output_type": "execute_result"
    }
   ],
   "source": [
    "sum(x) # pyhonic way"
   ]
  },
  {
   "cell_type": "code",
   "execution_count": null,
   "metadata": {},
   "outputs": [],
   "source": []
  },
  {
   "cell_type": "code",
   "execution_count": 18,
   "metadata": {},
   "outputs": [
    {
     "name": "stdout",
     "output_type": "stream",
     "text": [
      "2 2\n",
      "3 6\n",
      "4 24\n",
      "5 120\n",
      "6 720\n",
      "7 5040\n",
      "8 40320\n",
      "9 362880\n",
      "10 3628800\n",
      "11 39916800\n",
      "12 479001600\n",
      "13 6227020800\n",
      "14 87178291200\n",
      "15 1307674368000\n",
      "16 20922789888000\n",
      "17 355687428096000\n",
      "18 6402373705728000\n",
      "19 121645100408832000\n",
      "20 2432902008176640000\n",
      "21 51090942171709440000\n",
      "22 1124000727777607680000\n",
      "23 25852016738884976640000\n",
      "24 620448401733239439360000\n",
      "25 15511210043330985984000000\n"
     ]
    }
   ],
   "source": [
    "n = 25\n",
    "fact = 1\n",
    "for i in range(2, n+1):\n",
    "    fact *=i \n",
    "    print(i, fact)"
   ]
  },
  {
   "cell_type": "code",
   "execution_count": 20,
   "metadata": {},
   "outputs": [
    {
     "name": "stdout",
     "output_type": "stream",
     "text": [
      "1\n",
      "2\n",
      "3\n",
      "4\n",
      "5\n",
      "6\n",
      "7\n",
      "8\n",
      "9\n"
     ]
    }
   ],
   "source": [
    "a = 1\n",
    "while a < 10:\n",
    "    print(a)\n",
    "    a += 1"
   ]
  },
  {
   "cell_type": "code",
   "execution_count": 21,
   "metadata": {},
   "outputs": [
    {
     "name": "stdout",
     "output_type": "stream",
     "text": [
      "invalid input\n",
      "invalid input\n",
      "invalid input\n",
      "invalid input\n",
      "invalid input\n",
      "very good\n"
     ]
    }
   ],
   "source": [
    "while True:\n",
    "    x = input('Enter a number:')\n",
    "    if x.isnumeric():\n",
    "        print('very good')\n",
    "        break\n",
    "    else:\n",
    "        print('invalid input')"
   ]
  },
  {
   "cell_type": "code",
   "execution_count": null,
   "metadata": {},
   "outputs": [],
   "source": []
  }
 ],
 "metadata": {
  "kernelspec": {
   "display_name": "base",
   "language": "python",
   "name": "python3"
  },
  "language_info": {
   "codemirror_mode": {
    "name": "ipython",
    "version": 3
   },
   "file_extension": ".py",
   "mimetype": "text/x-python",
   "name": "python",
   "nbconvert_exporter": "python",
   "pygments_lexer": "ipython3",
   "version": "3.11.5"
  }
 },
 "nbformat": 4,
 "nbformat_minor": 2
}
